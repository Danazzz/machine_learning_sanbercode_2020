{
 "cells": [
  {
   "cell_type": "markdown",
   "metadata": {
    "colab_type": "text",
    "id": "47NOwo3UNcRl"
   },
   "source": [
    "<h1>Soal 1: Pemahaman Machine Learning</h1>\n",
    "\n",
    "Jawab/Kerjakan pertanyaan/perintah di bawah ini dengan bahasa kalian sendiri:\n",
    "\n",
    "- Apa itu machine learning?\n",
    "- Apa itu data feature dan data target?\n",
    "- Apa Perbedaan Supervised Learning dan Unsupervised Learning?\n",
    "- Apa Jenis2 yang ada di dalam Supervised Learning? Jelaskan Perbedaannya!\n",
    "- Apa perbedaan Hyperparameter dan Parameter?\n",
    "- Sebutkan Langkah-langkah dalam mengaplikasikan algoritma apapun dalam machine learning!"
   ]
  },
  {
   "cell_type": "markdown",
   "metadata": {
    "colab_type": "text",
    "id": "58I1LJFoNcRv"
   },
   "source": [
    "Apa itu machine learning?\n",
    "Machine Learning adalah metode yang digunakan untuk membuat program yang bisa belajar dari data. Berbeda dengan program komputer biasa yang statis, program machine learning adalah program yang dirancang untuk mampu belajar sendiri.\n",
    "\n",
    "Apa itu data feature dan data target?\n",
    "data feature adalah data yang digunakan untuk memprediksi suatu target, data feature ini bersifat bebas atau tidak tergantung (indenpendent). sedangkan data target adalah data yang diprediksi (hasil dari predikisi), bersifat tetap atau bergantung (dependent)\n",
    "\n",
    "Apa Perbedaan Supervised Learning dan Unsupervised Learning?\n",
    "unsupervised learning merupakan kategori machine learning yang dimana tidak mempunyai data target yang jelas. sedangkan supervised learning mempunyai data target yang jelas\n",
    "\n",
    "Apa Jenis2 yang ada di dalam Supervised Learning? Jelaskan Perbedaannya!\n",
    "ada 2 jenis didalam supervised learning yaitu klasifikasi dan regresi. perbedaan diantara kedua jenis tersebut adalah dari output nya. klasifikasi mendapatkan outputnya adalah class label (data target nya) sedangkan regresi outputnya adalah kuantitas yang berlanjut.\n",
    "\n",
    "Apa perbedaan Hyperparameter dan Parameter?\n",
    "Parameter didefinisikan di akhir dalam pembuatan objek model sedangkan hyperparameter didefinisikan di awal pembuatan objek model. dan hyperparameter tidak ada sangkut pautnya dengan model(bebas), sedangkan parameter mempunyai ikatan dengan model(tergantung)\n",
    "\n",
    "Sebutkan Langkah-langkah dalam mengaplikasikan algoritma apapun dalam machine learning!\n",
    "1 Pilih model atau algoritma yang ingin dipakai\n",
    "2 Pilih hyperparameter ketika membuat objek model\n",
    "3 Pisahkan antara data feature dan data target\n",
    "4 Perintahkan model untuk mempelajari data dengan menggunakan method .fit()\n",
    "5 Aplikasikan model kedalam test data dengan menggunakan method .predict() untuk supervised learning atau .transform() dan .predict() untuk unsupervised learning."
   ]
  },
  {
   "cell_type": "markdown",
   "metadata": {
    "colab_type": "text",
    "id": "jI50HJDgNcRz"
   },
   "source": [
    "<h1>Soal 2: Pemahaman Machine Learning</h1>\n",
    "\n",
    "Pelajarilah secara garis besar suatu model/algoritma machine learning, kemudian aplikasikan untuk membuat model bagi data (variable x, y) di bawah ini. Kemudian buatlah prediksi terhadap data training dan data baru di interval 20-30.\n",
    "\n",
    "- Plot data asli, data hasil prediksi terhadap data training, data hasil prediksi terhadap data baru\n",
    "- Tunjukan beberapa parameter yang dimiliki model yang telah kalian buat"
   ]
  },
  {
   "cell_type": "code",
   "execution_count": 4,
   "metadata": {
    "colab": {},
    "colab_type": "code",
    "id": "QotZc3UbNcR9",
    "outputId": "eac5b4f0-6932-446a-ebb2-5eaefadd583b"
   },
   "outputs": [
    {
     "data": {
      "image/png": "[encoded data removed]",
      "text/plain": [
       "<Figure size 864x432 with 1 Axes>"
      ]
     },
     "metadata": {
      "needs_background": "light"
     },
     "output_type": "display_data"
    }
   ],
   "source": [
    "import matplotlib.pyplot as plt\n",
    "import numpy as np\n",
    "\n",
    "rng = np.random.RandomState(42)\n",
    "\n",
    "#data feature\n",
    "x = 20 * rng.rand(50)\n",
    "#data target\n",
    "y = x**2 + 2 * x + - 1 + rng.randn(50)\n",
    "\n",
    "# data yang akan di prediksi\n",
    "x_new = np.arange(20, 30, 0.5)\n",
    "\n",
    "fig, ax = plt.subplots(figsize=(12, 6))\n",
    "ax.scatter(x, y)\n",
    "ax.set_xlabel('X-Value')\n",
    "ax.set_ylabel('Y-Value')\n",
    "plt.show()"
   ]
  },
  {
   "cell_type": "code",
   "execution_count": 38,
   "metadata": {},
   "outputs": [
    {
     "data": {
      "image/png": "[encoded data removed]",
      "text/plain": [
       "<Figure size 432x288 with 1 Axes>"
      ]
     },
     "metadata": {
      "needs_background": "light"
     },
     "output_type": "display_data"
    }
   ],
   "source": [
    "#Pilih model algoritma\n",
    "from sklearn.linear_model import LinearRegression\n",
    "\n",
    "#Pilih Hyperparameter\n",
    "lr= LinearRegression(fit_intercept=True)\n",
    "\n",
    "#pisahkan data feature dan data target (sklearn menerima matriks (array 2D), bukan vektor (array 1D)\n",
    "x_matriks =x[:,np.newaxis]\n",
    "\n",
    "#Perintahkan model untuk mempelajari data dengan menggunakan method .fit()\n",
    "lr.fit(x_matriks,y)\n",
    "\n",
    "#variabel yang akan ditest\n",
    "x_new = np.arange(20, 30, 0.5)\n",
    "x_new = x_new[:,np.newaxis]\n",
    "\n",
    "#supervised learning\n",
    "y_new = lr.predict(x_new)\n",
    "y_train = lr.predict(x_matriks)\n",
    "\n",
    "#visualisasikan\n",
    "plt.scatter(x,y,color='g',label='data asli')\n",
    "plt.plot(x,y_train,label='model training')\n",
    "plt.plot(x_new,y_new,label='hasil prediksi')\n",
    "plt.legend()\n",
    "plt.show()"
   ]
  },
  {
   "cell_type": "markdown",
   "metadata": {
    "colab_type": "text",
    "id": "3wrMfFusNcS6"
   },
   "source": [
    "Contoh jawaban hasil pembuatan model dengan algoritma DecisionTreeRegressor (jawaban tidak harus sama):\n",
    "\n",
    "![alt text](https://drive.google.com/uc?id=1R0mGnMp3DqEsHDiH2_IL4XSS2Roew0wo)"
   ]
  },
  {
   "cell_type": "markdown",
   "metadata": {
    "colab_type": "text",
    "id": "4Vs7RhxRNcS_"
   },
   "source": [
    "Contoh jawaban parameters (tidak harus sama):\n",
    "\n",
    "- Feature Importance : array([1.])\n",
    "- n features : 1\n",
    "  \n",
    "Tree Graph :\n",
    "\n",
    "![alt text](https://drive.google.com/uc?id=1GM0ba_qjm_e5oLhE9v6pVt2uRBBW6FH9)"
   ]
  },
  {
   "cell_type": "code",
   "execution_count": 36,
   "metadata": {
    "colab": {},
    "colab_type": "code",
    "id": "AQKlYTdSbL9o"
   },
   "outputs": [],
   "source": [
    "# Code here\n",
    "LinearRegression?"
   ]
  },
  {
   "cell_type": "code",
   "execution_count": 19,
   "metadata": {},
   "outputs": [
    {
     "data": {
      "text/plain": [
       "array([21.49620121])"
      ]
     },
     "execution_count": 19,
     "metadata": {},
     "output_type": "execute_result"
    }
   ],
   "source": [
    "lr.coef_"
   ]
  },
  {
   "cell_type": "code",
   "execution_count": 32,
   "metadata": {},
   "outputs": [
    {
     "data": {
      "text/plain": [
       "1"
      ]
     },
     "execution_count": 32,
     "metadata": {},
     "output_type": "execute_result"
    }
   ],
   "source": [
    "lr.rank_"
   ]
  },
  {
   "cell_type": "code",
   "execution_count": 35,
   "metadata": {},
   "outputs": [
    {
     "data": {
      "text/plain": [
       "array([40.44364814])"
      ]
     },
     "execution_count": 35,
     "metadata": {},
     "output_type": "execute_result"
    }
   ],
   "source": [
    "lr.singular_"
   ]
  },
  {
   "cell_type": "code",
   "execution_count": 37,
   "metadata": {},
   "outputs": [
    {
     "data": {
      "text/plain": [
       "-62.62636366159916"
      ]
     },
     "execution_count": 37,
     "metadata": {},
     "output_type": "execute_result"
    }
   ],
   "source": [
    "lr.intercept_"
   ]
  },
  {
   "cell_type": "code",
   "execution_count": 30,
   "metadata": {},
   "outputs": [
    {
     "data": {
      "text/plain": [
       "True"
      ]
     },
     "execution_count": 30,
     "metadata": {},
     "output_type": "execute_result"
    }
   ],
   "source": [
    "lr.fit_intercept"
   ]
  },
  {
   "cell_type": "code",
   "execution_count": 23,
   "metadata": {},
   "outputs": [
    {
     "data": {
      "text/plain": [
       "False"
      ]
     },
     "execution_count": 23,
     "metadata": {},
     "output_type": "execute_result"
    }
   ],
   "source": [
    "lr.normalize"
   ]
  },
  {
   "cell_type": "code",
   "execution_count": 25,
   "metadata": {},
   "outputs": [
    {
     "data": {
      "text/plain": [
       "True"
      ]
     },
     "execution_count": 25,
     "metadata": {},
     "output_type": "execute_result"
    }
   ],
   "source": [
    "lr.copy_X"
   ]
  },
  {
   "cell_type": "code",
   "execution_count": 33,
   "metadata": {},
   "outputs": [],
   "source": [
    "lr.n_jobs"
   ]
  }
 ],
 "metadata": {
  "colab": {
   "collapsed_sections": [],
   "name": "Tugas Hari 1 Pekan 4.ipynb",
   "provenance": []
  },
  "kernelspec": {
   "display_name": "Python 3",
   "language": "python",
   "name": "python3"
  },
  "language_info": {
   "codemirror_mode": {
    "name": "ipython",
    "version": 3
   },
   "file_extension": ".py",
   "mimetype": "text/x-python",
   "name": "python",
   "nbconvert_exporter": "python",
   "pygments_lexer": "ipython3",
   "version": "3.7.6"
  }
 },
 "nbformat": 4,
 "nbformat_minor": 1
}
