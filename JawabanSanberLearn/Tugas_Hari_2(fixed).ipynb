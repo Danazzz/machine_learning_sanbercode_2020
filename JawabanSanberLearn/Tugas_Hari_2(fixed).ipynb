{
  "nbformat": 4,
  "nbformat_minor": 0,
  "metadata": {
    "kernelspec": {
      "display_name": "Python 3",
      "language": "python",
      "name": "python3"
    },
    "language_info": {
      "codemirror_mode": {
        "name": "ipython",
        "version": 3
      },
      "file_extension": ".py",
      "mimetype": "text/x-python",
      "name": "python",
      "nbconvert_exporter": "python",
      "pygments_lexer": "ipython3",
      "version": "3.7.7"
    },
    "colab": {
      "name": "Tugas Hari 2.ipynb",
      "provenance": [],
      "collapsed_sections": []
    }
  },
  "cells": [
    {
      "cell_type": "markdown",
      "metadata": {
        "id": "I6jmLA-RYrt5",
        "colab_type": "text"
      },
      "source": [
        "<h2>Soal 1: Helper Function</h2>\n",
        "\n",
        "Jawab Pertanyaan di bawah ini:\n",
        "\n",
        "Misalkan kamu ingin mengetahui tentang kegunaan fungsi 'len' di Python, maka fungsi apa yang bisa kamu gunakan untuk menolong kamu?"
      ]
    },
    {
      "cell_type": "code",
      "metadata": {
        "id": "VrvyQxGJYrt9",
        "colab_type": "code",
        "colab": {
          "base_uri": "https://localhost:8080/",
          "height": 119
        },
        "outputId": "93a59aa7-12e4-49c9-ce6d-ecd9a577f13d"
      },
      "source": [
        "# lengkapi code ini\n",
        "print (help(len))"
      ],
      "execution_count": 11,
      "outputs": [
        {
          "output_type": "stream",
          "text": [
            "Help on built-in function len in module builtins:\n",
            "\n",
            "len(obj, /)\n",
            "    Return the number of items in a container.\n",
            "\n",
            "None\n"
          ],
          "name": "stdout"
        }
      ]
    },
    {
      "cell_type": "markdown",
      "metadata": {
        "id": "KrcuFTuAYruT",
        "colab_type": "text"
      },
      "source": [
        "<h2>Soal 2: Built-in Function</h2>\n",
        "\n",
        "Jawab Pertanyaan di bawah ini:\n",
        "    \n",
        "Apa itu built-in Function?\n",
        "\n",
        "Sebutkan 3 built-in Function di pyhon!\n",
        "\n",
        "Berikan contoh masing2 1 cara penggunaan built-in function yang kamu sebutkan sebelumnya"
      ]
    },
    {
      "cell_type": "markdown",
      "metadata": {
        "id": "xro-58_CYruW",
        "colab_type": "text"
      },
      "source": [
        "//isi jawaban text disini\n"
      ]
    },
    {
      "cell_type": "code",
      "metadata": {
        "id": "Xv7lHkgfYruY",
        "colab_type": "code",
        "colab": {
          "base_uri": "https://localhost:8080/",
          "height": 85
        },
        "outputId": "03b83d46-0974-4ac3-af51-90ee3710c233"
      },
      "source": [
        "# Contoh penggunaan built in function\n",
        "\n",
        "#print()\n",
        "print(\"Hello Python\")\n",
        "\n",
        "#input()\n",
        "nama = input(\"masukkan nama anda: \")\n",
        "print('Hello, ' +nama)\n",
        "\n",
        "#sum()\n",
        "angka=(5,5,5,5,5)\n",
        "print(sum(angka))"
      ],
      "execution_count": null,
      "outputs": [
        {
          "output_type": "stream",
          "text": [
            "Hello Python\n",
            "masukkan nama anda: dana\n",
            "Hello, dana\n",
            "25\n"
          ],
          "name": "stdout"
        }
      ]
    },
    {
      "cell_type": "markdown",
      "metadata": {
        "id": "yhWXiPNDYrul",
        "colab_type": "text"
      },
      "source": [
        "<h2>Soal 3: Method dan Function</h2>\n",
        "\n",
        "Jawab Pertanyaan di bawah ini:\n",
        "    \n",
        "- Apa perbedaan method dan function?"
      ]
    },
    {
      "cell_type": "markdown",
      "metadata": {
        "id": "rqpTJlgDYrun",
        "colab_type": "text"
      },
      "source": [
        "Method adalah suatu fungsi yang dimiliki oleh suatu object sedangkan function adalah fungsi yang yang tidak dimiliki oleh suatu object."
      ]
    },
    {
      "cell_type": "markdown",
      "metadata": {
        "id": "tUU1xgYBYrup",
        "colab_type": "text"
      },
      "source": [
        "<h2>Soal 4: Menggunkan Method String</h2>\n",
        "\n",
        "Lengkapi kode untuk menghasilkan suatu output yang di harapkan"
      ]
    },
    {
      "cell_type": "code",
      "metadata": {
        "id": "037gauOGYrur",
        "colab_type": "code",
        "colab": {
          "base_uri": "https://localhost:8080/",
          "height": 51
        },
        "outputId": "7f8f1841-e6dc-4e3f-ad11-6b76b1918d17"
      },
      "source": [
        "kalimat = \"Corona cepat selesai\"\n",
        "\n",
        "# gunakan method untuk mengubah nilai kalimat menjadi uppercase semua kemudian tampilkan hasilnya\n",
        "print(kalimat.upper())\n",
        "\n",
        "# gunakan method untuk menghitung berapa huruf e di dalam kalimat\n",
        "print(kalimat.count('e'))"
      ],
      "execution_count": 6,
      "outputs": [
        {
          "output_type": "stream",
          "text": [
            "CORONA CEPAT SELESAI\n",
            "3\n"
          ],
          "name": "stdout"
        }
      ]
    },
    {
      "cell_type": "markdown",
      "metadata": {
        "id": "fPTd4R5VYru5",
        "colab_type": "text"
      },
      "source": [
        "Expected Output:\n",
        "\n",
        "CORONA CEPAT SELESAI\n",
        "\n",
        "3"
      ]
    },
    {
      "cell_type": "markdown",
      "metadata": {
        "id": "IPjp5vwDYrvL",
        "colab_type": "text"
      },
      "source": [
        "<h2>Soal 5: Membuat Simple Function</h2>\n",
        "\n",
        "Buatlah suatu fungsi yang menerima satu input argumen berbentuk list dan mempunyai elemen bertipe numeric semua, dimana fungsi tersebut berguna untuk menghitung rata2 dari kumpulan elemen list tersebut. namai fungsi tersebut 'mean_list'"
      ]
    },
    {
      "cell_type": "code",
      "metadata": {
        "id": "smoKI9zIYrvO",
        "colab_type": "code",
        "colab": {
          "base_uri": "https://localhost:8080/",
          "height": 34
        },
        "outputId": "cc19d53f-8836-4d41-e02b-1372f9bc28c8"
      },
      "source": [
        "obj_list = [11.25, 18.0, 20.0, 10.75, 9.50]\n",
        "def mean_list(inp_list):\n",
        "    rata= sum(inp_list) / len(inp_list)\n",
        "    return rata\n",
        "\n",
        "print(mean_list(obj_list))"
      ],
      "execution_count": 13,
      "outputs": [
        {
          "output_type": "stream",
          "text": [
            "13.9\n"
          ],
          "name": "stdout"
        }
      ]
    },
    {
      "cell_type": "markdown",
      "metadata": {
        "id": "MVAvoHHgYrva",
        "colab_type": "text"
      },
      "source": [
        "Expected Output:\n",
        "\n",
        "13.9"
      ]
    },
    {
      "cell_type": "markdown",
      "metadata": {
        "id": "A8jjpNC8Yrvc",
        "colab_type": "text"
      },
      "source": [
        "<h2>Soal 6: Membuat Function dengan Multiple arguments</h2>\n",
        "\n",
        "Buatlah suatu fungsi untuk melakukan penggabungan antara dua list"
      ]
    },
    {
      "cell_type": "code",
      "metadata": {
        "id": "r42z4mafYrve",
        "colab_type": "code",
        "colab": {
          "base_uri": "https://localhost:8080/",
          "height": 34
        },
        "outputId": "3843d5b3-67d2-44fc-8763-6e0f289ba65c"
      },
      "source": [
        "obj_list = [2, 4, 5, 6]\n",
        "obj_penambah = [1, 2, 3]\n",
        "def kali_list(inp_list, inp_penambah):\n",
        "    inp_list.extend(inp_penambah)\n",
        "    print(inp_list)\n",
        "    return\n",
        "\n",
        "kali_list(obj_list, obj_penambah)"
      ],
      "execution_count": 17,
      "outputs": [
        {
          "output_type": "stream",
          "text": [
            "[2, 4, 5, 6, 1, 2, 3]\n"
          ],
          "name": "stdout"
        }
      ]
    },
    {
      "cell_type": "markdown",
      "metadata": {
        "id": "RYhU921kYrvp",
        "colab_type": "text"
      },
      "source": [
        "Expected Output:\n",
        "\n",
        "[2, 4, 5, 6, 1, 2, 3]"
      ]
    }
  ]
}