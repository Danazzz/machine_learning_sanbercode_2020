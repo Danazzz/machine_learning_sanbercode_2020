{
  "nbformat": 4,
  "nbformat_minor": 0,
  "metadata": {
    "kernelspec": {
      "display_name": "Python 3",
      "language": "python",
      "name": "python3"
    },
    "language_info": {
      "codemirror_mode": {
        "name": "ipython",
        "version": 3
      },
      "file_extension": ".py",
      "mimetype": "text/x-python",
      "name": "python",
      "nbconvert_exporter": "python",
      "pygments_lexer": "ipython3",
      "version": "3.7.7"
    },
    "colab": {
      "name": "Tugas Hari 3.ipynb",
      "provenance": [],
      "collapsed_sections": []
    }
  },
  "cells": [
    {
      "cell_type": "markdown",
      "metadata": {
        "id": "a9HYUdCUsrKl",
        "colab_type": "text"
      },
      "source": [
        "<h2>Soal 1: Comparison Operator</h2>\n",
        "\n",
        "- Berikan contoh comparison dari tipe data string\n",
        "- Berikan contoh comparison dari tipe data boolean\n",
        "- Berikan contoh comparison dari tipe data integer"
      ]
    },
    {
      "cell_type": "code",
      "metadata": {
        "id": "lXMCHZ71srKp",
        "colab_type": "code",
        "colab": {
          "base_uri": "https://localhost:8080/",
          "height": 51
        },
        "outputId": "a007987b-aa0e-4422-cba5-00a0b2967a02"
      },
      "source": [
        "#comparison string\n",
        "print(\"Sarjana\"==\"sarjana\")\n",
        "#khusus untuk tipe data string, perbandingan disesuaikan dengan urutan ASCII.\n",
        "print(\"a\"<\"c\")"
      ],
      "execution_count": 45,
      "outputs": [
        {
          "output_type": "stream",
          "text": [
            "False\n",
            "True\n"
          ],
          "name": "stdout"
        }
      ]
    },
    {
      "cell_type": "code",
      "metadata": {
        "id": "IYq1qejp6puT",
        "colab_type": "code",
        "colab": {
          "base_uri": "https://localhost:8080/",
          "height": 51
        },
        "outputId": "848d9667-e9f3-4977-be4a-44bffe9a8362"
      },
      "source": [
        "#comparison boolean\n",
        "print(True==(not False))\n",
        "#nilai True memiliki nilai yang besar dari False.karena nilai True adalah 1 dan False adalah 0\n",
        "print(False>True)"
      ],
      "execution_count": 46,
      "outputs": [
        {
          "output_type": "stream",
          "text": [
            "True\n",
            "False\n"
          ],
          "name": "stdout"
        }
      ]
    },
    {
      "cell_type": "code",
      "metadata": {
        "id": "9z1aEvUQ6xTx",
        "colab_type": "code",
        "colab": {
          "base_uri": "https://localhost:8080/",
          "height": 51
        },
        "outputId": "ae0034ba-3d5b-4ae9-cade-3f1ba333563c"
      },
      "source": [
        "#comparison integer\n",
        "print(10!=10)\n",
        "print(8==(4*2))"
      ],
      "execution_count": 47,
      "outputs": [
        {
          "output_type": "stream",
          "text": [
            "False\n",
            "True\n"
          ],
          "name": "stdout"
        }
      ]
    },
    {
      "cell_type": "markdown",
      "metadata": {
        "id": "IbNoZvVssrK5",
        "colab_type": "text"
      },
      "source": [
        "<h2>Soal 2: Boolean Comparison</h2>\n",
        "\n",
        "- Berikan contoh gabungan multiple comparison menggunkan Boolean Comparisin 'and'\n",
        "- Berikan contoh gabungan multiple comparison menggunkan Boolean Comparisin 'or'\n",
        "- Berikan contoh gabungan multiple comparison menggunkan Boolean Comparisin 'not'"
      ]
    },
    {
      "cell_type": "code",
      "metadata": {
        "id": "7eU1vPLCsrK7",
        "colab_type": "code",
        "colab": {
          "base_uri": "https://localhost:8080/",
          "height": 119
        },
        "outputId": "5ffc657e-ed81-476b-928e-a9d3fab78697"
      },
      "source": [
        "#variabel boolean\n",
        "perempuan=True\n",
        "laki=False\n",
        "#comparison \"and\"\n",
        "print(\"anda diperbolehkan masuk apabila anda perempuan dan berumur 18 tahun keatas\")\n",
        "print(perempuan and (18<=10))\n",
        "#comparison \"or\"\n",
        "print(\"anda diperbolehkan masuk apabila anda perempuan atau berumur 18 tahun keatas\")\n",
        "print(laki or (18<=18))\n",
        "#comparison \"not\"\n",
        "print(\"anda diperbolehkan masuk apabila anda bukan perempuan dan berumur 18 tahun keatas\")\n",
        "print(not perempuan and (20>=18))"
      ],
      "execution_count": 40,
      "outputs": [
        {
          "output_type": "stream",
          "text": [
            "anda diperbolehkan masuk apabila anda perempuan dan berumur 18 tahun keatas\n",
            "False\n",
            "anda diperbolehkan masuk apabila anda perempuan atau berumur 18 tahun keatas\n",
            "True\n",
            "anda diperbolehkan masuk apabila anda bukan perempuan dan berumur 18 tahun keatas\n",
            "False\n"
          ],
          "name": "stdout"
        }
      ]
    },
    {
      "cell_type": "markdown",
      "metadata": {
        "id": "Yp_g_sPMsrLH",
        "colab_type": "text"
      },
      "source": [
        "<h2>Soal 3: If-Else Statement</h2>\n",
        "\n",
        "Lengkapi kode untuk menghasilkan suatu output yang di harapkan\n",
        "\n",
        "- Bualah sebuah if-else statement yang dimana akan mem-print 'Besar' jika ruangan adalah 'Kamar' dan ukuran lebih dari 12, kemudian mem-print 'Sedang' jika ruangan adalah 'Kamar' dan ukuran lebih dari 6 dan memprint 'Kecil' jika ruangan adalah 'Kamar' dan ukuran ruangan lebih kecil dan sama dengan 6."
      ]
    },
    {
      "cell_type": "code",
      "metadata": {
        "id": "euRiRNupsrLK",
        "colab_type": "code",
        "colab": {
          "base_uri": "https://localhost:8080/",
          "height": 34
        },
        "outputId": "3321df1d-8095-48fd-8dd3-57d70e87af2c"
      },
      "source": [
        "#variabel\n",
        "ruangan = \"Kamar\"\n",
        "size = 20\n",
        "\n",
        "#if-else statement ukuran kamar\n",
        "if ruangan==\"Kamar\":\n",
        "  if size>12:\n",
        "    print('Besar')\n",
        "  elif size>6:\n",
        "    print('Sedang')\n",
        "  elif size<=6:\n",
        "    print('Kecil')"
      ],
      "execution_count": 69,
      "outputs": [
        {
          "output_type": "stream",
          "text": [
            "Besar\n"
          ],
          "name": "stdout"
        }
      ]
    },
    {
      "cell_type": "markdown",
      "metadata": {
        "id": "IcoJXJT1srLW",
        "colab_type": "text"
      },
      "source": [
        "<h2>Soal 4: Comparison Operator dengan fungsi</h2>\n",
        "\n",
        "Buatlah sebuah fungsi yang menerima satu argument bertipe data numeric dan menghasilkan sebuah return sebagai berikut :\n",
        "- menghasilkan return 'Aneh' jika nilai dari argument tersebut adalah bilangan ganjil\n",
        "- menghasilkan return 'Tidak Aneh' jika nilai dari argument tersebut adalah bilangan genap dan diantara nilai 2 sampai 5 (2 dan 5 termasuk)\n",
        "- menghasilkan return 'Aneh' jika nilai dari argument tersebut adalah bilangan genap dan diantara nilai 6 sampai 20 (6 dan 20 termasuk)\n",
        "- menghasilkan return 'Tidak Aneh' jika nilai dari argument tersebut adalah bilangan genap dan lebih besari dari 20"
      ]
    },
    {
      "cell_type": "code",
      "metadata": {
        "id": "g8F_qfEKsrLZ",
        "colab_type": "code",
        "colab": {
          "base_uri": "https://localhost:8080/",
          "height": 51
        },
        "outputId": "51b8461b-3a5b-4e60-d133-dbd0eabd83ae"
      },
      "source": [
        "def fungsi(angka):\n",
        "  if angka%2==0:\n",
        "      if 2<= angka <=5:\n",
        "          print(\"Tidak Aneh\")\n",
        "      elif 6<= angka <=20:\n",
        "          print(\"Aneh\")\n",
        "      elif angka>20:\n",
        "          print(\"Tidak Aneh\")\n",
        "  elif angka%2==1:\n",
        "      print(\"Aneh\")\n",
        "  return\n",
        "\n",
        "inp=input(\"Silahkan input angka: \")\n",
        "fungsi(int(inp))"
      ],
      "execution_count": 83,
      "outputs": [
        {
          "output_type": "stream",
          "text": [
            "Silahkan input angka: 2\n",
            "Tidak Aneh\n"
          ],
          "name": "stdout"
        }
      ]
    },
    {
      "cell_type": "markdown",
      "metadata": {
        "id": "gf0D64xOsrLl",
        "colab_type": "text"
      },
      "source": [
        "<h2>Soal 5: While Loop dan For Loop</h2>\n",
        "\n",
        "- Apa perbedaan while loop dan for loop?\n",
        "- Berikan contoh sederhana cara menggunakan while loop dan for loop"
      ]
    },
    {
      "cell_type": "markdown",
      "metadata": {
        "id": "kvD8IbQsK5bJ",
        "colab_type": "text"
      },
      "source": [
        "While loop adalah perulangan Selama kondisi benar akan terus di ulang, metode perulanganya di cek dulu, dan jika benar (true) maka perulangan di kerjakan, jika salah (false) maka perulangan di hentikan. Sedangkan pada for, Pertama, program hanya akan menjalankan bagian 1 sebanyak sekali, lalu dicek pada bagian 2. Bila benar, bagian 3 akan dijalankan, diikuti bagian 4. Setelah itu, program akan kembali melakukan cek pada bagian 2. Apabila masih benar, akan dilanjutkan dengan menjalankan bagian 3 dan 4 seperti sebelumnya.Program akan terus berputar pada bagian 2 – 3 – 4. Sampai kapan? Sampai ketika bagian 2 (kondisi) tidak terpenuhi (hasil pengecekan bernilai salah). Lebih gampangnya, Jika for adalah perulangan berdasar jumlah elemen, while melakukan perulangan selama statement/ kondisi pada while loop tersebut benar/ TRUE."
      ]
    },
    {
      "cell_type": "code",
      "metadata": {
        "id": "l7KIgpjHsrLo",
        "colab_type": "code",
        "colab": {
          "base_uri": "https://localhost:8080/",
          "height": 221
        },
        "outputId": "c831ae0b-53f7-4a83-b08c-cf372d1b4718"
      },
      "source": [
        "#penggunaan while loop dan for loop\n",
        "\n",
        "#while loop meminta input dari user berupa angka yang akan dimasukkan kedalam array\n",
        "#selama kondisi pada while bernilai true maka perulangan tidak akan berhenti\n",
        "#apabila user menekan huruf n makan loop akan berhenti\n",
        "data=[]\n",
        "while True:\n",
        "    angka = input(\"masukkan angka pada array bila anda merasa cukup, tekan 'n' :\")\n",
        "    if angka=='n':\n",
        "        break\n",
        "    data.append(int(angka))\n",
        "print(data)\n",
        "\n",
        "#for loop akan menjumlahkan isi dari array tersebut.\n",
        "hasil=0\n",
        "for jumlah in data:\n",
        "    hasil+=jumlah\n",
        "print(hasil)"
      ],
      "execution_count": 86,
      "outputs": [
        {
          "output_type": "stream",
          "text": [
            "masukkan angka pada array bila anda merasa cukup, tekan 'n' :\n",
            "1\n",
            "masukkan angka pada array bila anda merasa cukup, tekan 'n' :\n",
            "2\n",
            "masukkan angka pada array bila anda merasa cukup, tekan 'n' :\n",
            "3\n",
            "masukkan angka pada array bila anda merasa cukup, tekan 'n' :\n",
            "4\n",
            "masukkan angka pada array bila anda merasa cukup, tekan 'n' :\n",
            "n\n",
            "[1, 2, 3, 4]\n",
            "10\n"
          ],
          "name": "stdout"
        }
      ]
    },
    {
      "cell_type": "markdown",
      "metadata": {
        "id": "fZQpBGCgsrLz",
        "colab_type": "text"
      },
      "source": [
        "<h2>Soal 6: While Loop</h2>\n",
        "    \n",
        "Buatlah sebuah code while loop sebagai berikut :\n",
        "- Buatlah suatu fungsi yang merima satu input nilai numeric\n",
        "- Dalam fungsi, Buat sebuah while-loop dengan melakukan comparasi terhadap inputan tersebut, dimana looping/iterasi terus berjalan apabila nilai inputan tidak sama dengan 0\n",
        "- Dalam setiap iterasi update nilai variable inputan itu, jika input lebih dari 0, maka kurangi variabel tersebut sebesar 1, selain itu tambahkan 1\n",
        "- print nilai variable input dalam setiap awal iterasi"
      ]
    },
    {
      "cell_type": "code",
      "metadata": {
        "id": "yOiqjrU2srL1",
        "colab_type": "code",
        "colab": {
          "base_uri": "https://localhost:8080/",
          "height": 187
        },
        "outputId": "5d32c410-9b03-4fdc-ec82-7e025db8ac85"
      },
      "source": [
        "#variabel\n",
        "a = 10\n",
        "\n",
        "#fungsi_while\n",
        "def fungsi_while(inp):\n",
        "    while inp!=0:\n",
        "      print(inp)\n",
        "      inp-=1\n",
        "    return\n",
        "\n",
        "fungsi_while(a)"
      ],
      "execution_count": 97,
      "outputs": [
        {
          "output_type": "stream",
          "text": [
            "10\n",
            "9\n",
            "8\n",
            "7\n",
            "6\n",
            "5\n",
            "4\n",
            "3\n",
            "2\n",
            "1\n"
          ],
          "name": "stdout"
        }
      ]
    },
    {
      "cell_type": "markdown",
      "metadata": {
        "id": "lKzngRrlsrMD",
        "colab_type": "text"
      },
      "source": [
        "Expected Output:\n",
        "\n",
        "10\n",
        "\n",
        "9\n",
        "\n",
        "8\n",
        "\n",
        "7\n",
        "\n",
        "6\n",
        "\n",
        "5\n",
        "\n",
        "4\n",
        "\n",
        "3\n",
        "\n",
        "2\n",
        "\n",
        "1"
      ]
    },
    {
      "cell_type": "markdown",
      "metadata": {
        "id": "IWg3Z_zZsrMG",
        "colab_type": "text"
      },
      "source": [
        "<h2>Soal 7: For Loop</h2>\n",
        "    \n",
        "Lengkapi kode untuk menghasilkan suatu output yang di harapkan:\n",
        "\n",
        "- Buatlah sebuah loop dengan mengiterasi sebuah objek list kemudian di kalikan dengan index dari list tersebut dan print hasilnya"
      ]
    },
    {
      "cell_type": "code",
      "metadata": {
        "id": "_Jl5i7WKsrMI",
        "colab_type": "code",
        "colab": {}
      },
      "source": [
        "obj_list= [1, 16, 11, 10, 5]\n",
        "\n",
        "# lengkapi code di bawah\n",
        "for i, obj in enumerate (obj_list):\n",
        "    print(i*obj)\n"
      ],
      "execution_count": null,
      "outputs": []
    },
    {
      "cell_type": "markdown",
      "metadata": {
        "id": "OGawROjnsrMU",
        "colab_type": "text"
      },
      "source": [
        "Expected Output:\n",
        "\n",
        "0\n",
        "\n",
        "16\n",
        "\n",
        "22\n",
        "\n",
        "30\n",
        "\n",
        "20\n"
      ]
    }
  ]
}